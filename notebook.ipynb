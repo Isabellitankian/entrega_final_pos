{
 "cells": [
  {
   "cell_type": "code",
   "execution_count": 1,
   "metadata": {},
   "outputs": [],
   "source": [
    "import pandas as pd\n",
    "from glob import glob"
   ]
  },
  {
   "cell_type": "code",
   "execution_count": 2,
   "metadata": {},
   "outputs": [
    {
     "name": "stdout",
     "output_type": "stream",
     "text": [
      "                              0       1       2       3       4      5\n",
      "userId                   100000  100000  100000  100000  100000  77942\n",
      "userType                 100000  100000  100000  100000  100000  77942\n",
      "historySize              100000  100000  100000  100000  100000  77942\n",
      "history                  100000  100000  100000  100000  100000  77942\n",
      "timestampHistory         100000  100000  100000  100000  100000  77942\n",
      "numberOfClicksHistory    100000  100000  100000  100000  100000  77942\n",
      "timeOnPageHistory        100000  100000  100000  100000  100000  77942\n",
      "scrollPercentageHistory  100000  100000  100000  100000  100000  77942\n",
      "pageVisitsCountHistory   100000  100000  100000  100000  100000  77942\n",
      "timestampHistory_new     100000  100000  100000  100000  100000  77942\n"
     ]
    }
   ],
   "source": [
    "count = []\n",
    "arquivos_treino = glob('./files/treino/*.csv')\n",
    "for arquivo in arquivos_treino:\n",
    "    df = pd.read_csv(arquivo)\n",
    "    count.append(df.count())\n",
    "del(df)\n",
    "\n",
    "print(pd.DataFrame(count).T)"
   ]
  },
  {
   "cell_type": "code",
   "execution_count": 3,
   "metadata": {},
   "outputs": [
    {
     "name": "stdout",
     "output_type": "stream",
     "text": [
      "               0       1      2\n",
      "page      100000  100000  55603\n",
      "url       100000  100000  55603\n",
      "issued    100000  100000  55603\n",
      "modified  100000  100000  55603\n",
      "title     100000  100000  55603\n",
      "body      100000  100000  55603\n",
      "caption   100000  100000  55603\n"
     ]
    }
   ],
   "source": [
    "count = []\n",
    "arquivos_itens = glob('./itens/itens/*.csv')\n",
    "for arquivo in arquivos_itens:\n",
    "    df = pd.read_csv(arquivo)\n",
    "    count.append(df.count())\n",
    "del(df)\n",
    "\n",
    "print(pd.DataFrame(count).T)"
   ]
  },
  {
   "cell_type": "code",
   "execution_count": 4,
   "metadata": {},
   "outputs": [],
   "source": [
    "treino_df = pd.concat([pd.read_csv(arquivo) for arquivo in arquivos_treino], ignore_index=True)\n",
    "itens_df = pd.concat([pd.read_csv(arquivo) for arquivo in arquivos_itens], ignore_index=True)"
   ]
  },
  {
   "cell_type": "code",
   "execution_count": 5,
   "metadata": {},
   "outputs": [
    {
     "data": {
      "text/plain": [
       "userId                     0\n",
       "userType                   0\n",
       "historySize                0\n",
       "history                    0\n",
       "timestampHistory           0\n",
       "numberOfClicksHistory      0\n",
       "timeOnPageHistory          0\n",
       "scrollPercentageHistory    0\n",
       "pageVisitsCountHistory     0\n",
       "timestampHistory_new       0\n",
       "dtype: int64"
      ]
     },
     "execution_count": 5,
     "metadata": {},
     "output_type": "execute_result"
    }
   ],
   "source": [
    "treino_df.isnull().sum()"
   ]
  },
  {
   "cell_type": "code",
   "execution_count": 6,
   "metadata": {},
   "outputs": [
    {
     "data": {
      "text/plain": [
       "page        0\n",
       "url         0\n",
       "issued      0\n",
       "modified    0\n",
       "title       0\n",
       "body        0\n",
       "caption     0\n",
       "dtype: int64"
      ]
     },
     "execution_count": 6,
     "metadata": {},
     "output_type": "execute_result"
    }
   ],
   "source": [
    "itens_df.isnull().sum()"
   ]
  },
  {
   "cell_type": "code",
   "execution_count": 7,
   "metadata": {},
   "outputs": [
    {
     "data": {
      "text/plain": [
       "np.int64(0)"
      ]
     },
     "execution_count": 7,
     "metadata": {},
     "output_type": "execute_result"
    }
   ],
   "source": [
    "treino_df.duplicated().sum()"
   ]
  },
  {
   "cell_type": "code",
   "execution_count": 8,
   "metadata": {},
   "outputs": [
    {
     "data": {
      "text/plain": [
       "np.int64(0)"
      ]
     },
     "execution_count": 8,
     "metadata": {},
     "output_type": "execute_result"
    }
   ],
   "source": [
    "itens_df.duplicated().sum()"
   ]
  },
  {
   "cell_type": "code",
   "execution_count": 9,
   "metadata": {},
   "outputs": [
    {
     "data": {
      "text/html": [
       "<div>\n",
       "<style scoped>\n",
       "    .dataframe tbody tr th:only-of-type {\n",
       "        vertical-align: middle;\n",
       "    }\n",
       "\n",
       "    .dataframe tbody tr th {\n",
       "        vertical-align: top;\n",
       "    }\n",
       "\n",
       "    .dataframe thead th {\n",
       "        text-align: right;\n",
       "    }\n",
       "</style>\n",
       "<table border=\"1\" class=\"dataframe\">\n",
       "  <thead>\n",
       "    <tr style=\"text-align: right;\">\n",
       "      <th></th>\n",
       "      <th>userId</th>\n",
       "      <th>userType</th>\n",
       "      <th>historySize</th>\n",
       "      <th>history</th>\n",
       "      <th>timestampHistory</th>\n",
       "      <th>numberOfClicksHistory</th>\n",
       "      <th>timeOnPageHistory</th>\n",
       "      <th>scrollPercentageHistory</th>\n",
       "      <th>pageVisitsCountHistory</th>\n",
       "      <th>timestampHistory_new</th>\n",
       "    </tr>\n",
       "  </thead>\n",
       "  <tbody>\n",
       "    <tr>\n",
       "      <th>0</th>\n",
       "      <td>f98d1132f60d46883ce49583257104d15ce723b3bbda21...</td>\n",
       "      <td>Non-Logged</td>\n",
       "      <td>3</td>\n",
       "      <td>c8aab885-433d-4e46-8066-479f40ba7fb2, 68d2039c...</td>\n",
       "      <td>1657146417045, 1657146605778, 1657146698738</td>\n",
       "      <td>76, 38, 41</td>\n",
       "      <td>20380, 21184, 35438</td>\n",
       "      <td>50.3, 18.18, 16.46</td>\n",
       "      <td>2, 1, 1</td>\n",
       "      <td>1657146417045, 1657146605778, 1657146698738</td>\n",
       "    </tr>\n",
       "    <tr>\n",
       "      <th>1</th>\n",
       "      <td>2c1080975e257ed630e26679edbe4d5c850c65f3e09f65...</td>\n",
       "      <td>Non-Logged</td>\n",
       "      <td>60</td>\n",
       "      <td>3325b5a1-979a-4cb3-82b6-63905c9edbe8, fe856057...</td>\n",
       "      <td>1656684240278, 1656761266729, 1656761528085, 1...</td>\n",
       "      <td>7, 80, 2, 1, 7, 62, 26, 44, 4, 4, 14, 45, 13, ...</td>\n",
       "      <td>6049, 210489, 8672, 10000, 30000, 123007, 9965...</td>\n",
       "      <td>25.35, 45.66, 35.3, 28.05, 36.53, 47.57, 55.33...</td>\n",
       "      <td>1, 1, 1, 1, 1, 1, 1, 1, 1, 2, 1, 1, 1, 2, 1, 1...</td>\n",
       "      <td>1656684240278, 1656761266729, 1656761528085, 1...</td>\n",
       "    </tr>\n",
       "    <tr>\n",
       "      <th>2</th>\n",
       "      <td>0adffd7450d3b9840d8c6215f0569ad942e782fb19b805...</td>\n",
       "      <td>Logged</td>\n",
       "      <td>107</td>\n",
       "      <td>04756569-593e-4133-a95a-83d35d43dbbd, 29b6b142...</td>\n",
       "      <td>1656678946256, 1656701076495, 1656701882565, 1...</td>\n",
       "      <td>0, 0, 0, 0, 0, 44, 0, 0, 2, 1, 0, 0, 0, 44, 0,...</td>\n",
       "      <td>311274, 140000, 32515, 157018, 118689, 159243,...</td>\n",
       "      <td>67.58, 47.22, 41.52, 63.09, 51.38, 65.11, 71.9...</td>\n",
       "      <td>1, 1, 1, 1, 1, 1, 1, 1, 2, 1, 1, 1, 1, 1, 1, 1...</td>\n",
       "      <td>1656678946256, 1656701076495, 1656701882565, 1...</td>\n",
       "    </tr>\n",
       "    <tr>\n",
       "      <th>3</th>\n",
       "      <td>c1e8d644329a78ea1f994292db624c57980b2886cfbc2d...</td>\n",
       "      <td>Non-Logged</td>\n",
       "      <td>56</td>\n",
       "      <td>1f2b9c2f-a2d2-4192-b009-09065da8ec23, 04756569...</td>\n",
       "      <td>1658333312180, 1658404553818, 1658408449062, 1...</td>\n",
       "      <td>8, 0, 0, 0, 0, 0, 1, 0, 0, 1, 0, 0, 2, 0, 1, 1...</td>\n",
       "      <td>182696, 91925, 30000, 273655, 126409, 42980, 1...</td>\n",
       "      <td>58.26, 72.66, 22.57, 59.89, 40.36, 36.35, 14.7...</td>\n",
       "      <td>1, 1, 1, 1, 1, 1, 1, 1, 1, 1, 1, 1, 1, 1, 1, 1...</td>\n",
       "      <td>1658333312180, 1658404553818, 1658408449062, 1...</td>\n",
       "    </tr>\n",
       "    <tr>\n",
       "      <th>4</th>\n",
       "      <td>e777d1f31d4d955b63d60acc13df336d3903f52ab8f8f4...</td>\n",
       "      <td>Non-Logged</td>\n",
       "      <td>4</td>\n",
       "      <td>bebdeb3e-1699-43e0-a1b8-989f5a6ab679, f4b484a7...</td>\n",
       "      <td>1658766608801, 1658766608801, 1660084035094, 1...</td>\n",
       "      <td>579, 579, 7, 2</td>\n",
       "      <td>801396, 801396, 10000, 10000</td>\n",
       "      <td>78.74, 78.74, 16.71, 9.34</td>\n",
       "      <td>7, 7, 1, 1</td>\n",
       "      <td>1658766608801, 1658766608801, 1660084035094, 1...</td>\n",
       "    </tr>\n",
       "  </tbody>\n",
       "</table>\n",
       "</div>"
      ],
      "text/plain": [
       "                                              userId    userType  historySize  \\\n",
       "0  f98d1132f60d46883ce49583257104d15ce723b3bbda21...  Non-Logged            3   \n",
       "1  2c1080975e257ed630e26679edbe4d5c850c65f3e09f65...  Non-Logged           60   \n",
       "2  0adffd7450d3b9840d8c6215f0569ad942e782fb19b805...      Logged          107   \n",
       "3  c1e8d644329a78ea1f994292db624c57980b2886cfbc2d...  Non-Logged           56   \n",
       "4  e777d1f31d4d955b63d60acc13df336d3903f52ab8f8f4...  Non-Logged            4   \n",
       "\n",
       "                                             history  \\\n",
       "0  c8aab885-433d-4e46-8066-479f40ba7fb2, 68d2039c...   \n",
       "1  3325b5a1-979a-4cb3-82b6-63905c9edbe8, fe856057...   \n",
       "2  04756569-593e-4133-a95a-83d35d43dbbd, 29b6b142...   \n",
       "3  1f2b9c2f-a2d2-4192-b009-09065da8ec23, 04756569...   \n",
       "4  bebdeb3e-1699-43e0-a1b8-989f5a6ab679, f4b484a7...   \n",
       "\n",
       "                                    timestampHistory  \\\n",
       "0        1657146417045, 1657146605778, 1657146698738   \n",
       "1  1656684240278, 1656761266729, 1656761528085, 1...   \n",
       "2  1656678946256, 1656701076495, 1656701882565, 1...   \n",
       "3  1658333312180, 1658404553818, 1658408449062, 1...   \n",
       "4  1658766608801, 1658766608801, 1660084035094, 1...   \n",
       "\n",
       "                               numberOfClicksHistory  \\\n",
       "0                                         76, 38, 41   \n",
       "1  7, 80, 2, 1, 7, 62, 26, 44, 4, 4, 14, 45, 13, ...   \n",
       "2  0, 0, 0, 0, 0, 44, 0, 0, 2, 1, 0, 0, 0, 44, 0,...   \n",
       "3  8, 0, 0, 0, 0, 0, 1, 0, 0, 1, 0, 0, 2, 0, 1, 1...   \n",
       "4                                     579, 579, 7, 2   \n",
       "\n",
       "                                   timeOnPageHistory  \\\n",
       "0                                20380, 21184, 35438   \n",
       "1  6049, 210489, 8672, 10000, 30000, 123007, 9965...   \n",
       "2  311274, 140000, 32515, 157018, 118689, 159243,...   \n",
       "3  182696, 91925, 30000, 273655, 126409, 42980, 1...   \n",
       "4                       801396, 801396, 10000, 10000   \n",
       "\n",
       "                             scrollPercentageHistory  \\\n",
       "0                                 50.3, 18.18, 16.46   \n",
       "1  25.35, 45.66, 35.3, 28.05, 36.53, 47.57, 55.33...   \n",
       "2  67.58, 47.22, 41.52, 63.09, 51.38, 65.11, 71.9...   \n",
       "3  58.26, 72.66, 22.57, 59.89, 40.36, 36.35, 14.7...   \n",
       "4                          78.74, 78.74, 16.71, 9.34   \n",
       "\n",
       "                              pageVisitsCountHistory  \\\n",
       "0                                            2, 1, 1   \n",
       "1  1, 1, 1, 1, 1, 1, 1, 1, 1, 2, 1, 1, 1, 2, 1, 1...   \n",
       "2  1, 1, 1, 1, 1, 1, 1, 1, 2, 1, 1, 1, 1, 1, 1, 1...   \n",
       "3  1, 1, 1, 1, 1, 1, 1, 1, 1, 1, 1, 1, 1, 1, 1, 1...   \n",
       "4                                         7, 7, 1, 1   \n",
       "\n",
       "                                timestampHistory_new  \n",
       "0        1657146417045, 1657146605778, 1657146698738  \n",
       "1  1656684240278, 1656761266729, 1656761528085, 1...  \n",
       "2  1656678946256, 1656701076495, 1656701882565, 1...  \n",
       "3  1658333312180, 1658404553818, 1658408449062, 1...  \n",
       "4  1658766608801, 1658766608801, 1660084035094, 1...  "
      ]
     },
     "execution_count": 9,
     "metadata": {},
     "output_type": "execute_result"
    }
   ],
   "source": [
    "treino_df.head()"
   ]
  },
  {
   "cell_type": "code",
   "execution_count": 10,
   "metadata": {},
   "outputs": [
    {
     "data": {
      "text/html": [
       "<div>\n",
       "<style scoped>\n",
       "    .dataframe tbody tr th:only-of-type {\n",
       "        vertical-align: middle;\n",
       "    }\n",
       "\n",
       "    .dataframe tbody tr th {\n",
       "        vertical-align: top;\n",
       "    }\n",
       "\n",
       "    .dataframe thead th {\n",
       "        text-align: right;\n",
       "    }\n",
       "</style>\n",
       "<table border=\"1\" class=\"dataframe\">\n",
       "  <thead>\n",
       "    <tr style=\"text-align: right;\">\n",
       "      <th></th>\n",
       "      <th>page</th>\n",
       "      <th>url</th>\n",
       "      <th>issued</th>\n",
       "      <th>modified</th>\n",
       "      <th>title</th>\n",
       "      <th>body</th>\n",
       "      <th>caption</th>\n",
       "    </tr>\n",
       "  </thead>\n",
       "  <tbody>\n",
       "    <tr>\n",
       "      <th>0</th>\n",
       "      <td>13db0ab1-eea2-4603-84c4-f40a876c7400</td>\n",
       "      <td>http://g1.globo.com/am/amazonas/noticia/2022/0...</td>\n",
       "      <td>2022-06-18 20:37:45+00:00</td>\n",
       "      <td>2023-04-15 00:02:08+00:00</td>\n",
       "      <td>Caso Bruno e Dom: 3º suspeito tem prisão tempo...</td>\n",
       "      <td>Após audiência de custódia, a Justiça do Amazo...</td>\n",
       "      <td>Jeferson da Silva Lima foi escoltado por agent...</td>\n",
       "    </tr>\n",
       "    <tr>\n",
       "      <th>1</th>\n",
       "      <td>92907b73-5cd3-4184-8d8c-e206aed2bf1c</td>\n",
       "      <td>http://g1.globo.com/pa/santarem-regiao/noticia...</td>\n",
       "      <td>2019-06-20 17:19:52+00:00</td>\n",
       "      <td>2023-06-16 20:19:15+00:00</td>\n",
       "      <td>Linguajar dos santarenos é diferenciado e chei...</td>\n",
       "      <td>Vista aérea de Santarém\\nÁdrio Denner/ AD Prod...</td>\n",
       "      <td>As expressões santarenas não significam apenas...</td>\n",
       "    </tr>\n",
       "    <tr>\n",
       "      <th>2</th>\n",
       "      <td>61e07f64-cddf-46f2-b50c-ea0a39c22050</td>\n",
       "      <td>http://g1.globo.com/mundo/noticia/2022/07/08/e...</td>\n",
       "      <td>2022-07-08 08:55:52+00:00</td>\n",
       "      <td>2023-04-15 04:25:39+00:00</td>\n",
       "      <td>Ex-premiê Shinzo Abe morre após ser baleado no...</td>\n",
       "      <td>Novo vídeo mostra que assassino de Shinzo Abe ...</td>\n",
       "      <td>Ex-primeiro-ministro foi atingido por tiros de...</td>\n",
       "    </tr>\n",
       "    <tr>\n",
       "      <th>3</th>\n",
       "      <td>30e2e6c5-554a-48ed-a35f-6c6691c8ac9b</td>\n",
       "      <td>http://g1.globo.com/politica/noticia/2021/09/0...</td>\n",
       "      <td>2021-09-09 19:06:46+00:00</td>\n",
       "      <td>2023-06-07 17:44:54+00:00</td>\n",
       "      <td>Relator no STF, Fachin vota contra marco tempo...</td>\n",
       "      <td>Relator no STF, Fachin vota contra marco tempo...</td>\n",
       "      <td>Ministro defendeu que posse indígena é diferen...</td>\n",
       "    </tr>\n",
       "    <tr>\n",
       "      <th>4</th>\n",
       "      <td>9dff71eb-b681-40c7-ac8d-68017ac36675</td>\n",
       "      <td>http://g1.globo.com/politica/noticia/2021/09/1...</td>\n",
       "      <td>2021-09-15 19:16:13+00:00</td>\n",
       "      <td>2023-06-07 17:43:39+00:00</td>\n",
       "      <td>\\nApós 2 votos, pedido de vista suspende julga...</td>\n",
       "      <td>Após um pedido de vista (mais tempo para análi...</td>\n",
       "      <td>Pelo marco temporal, índios só podem reivindic...</td>\n",
       "    </tr>\n",
       "  </tbody>\n",
       "</table>\n",
       "</div>"
      ],
      "text/plain": [
       "                                   page  \\\n",
       "0  13db0ab1-eea2-4603-84c4-f40a876c7400   \n",
       "1  92907b73-5cd3-4184-8d8c-e206aed2bf1c   \n",
       "2  61e07f64-cddf-46f2-b50c-ea0a39c22050   \n",
       "3  30e2e6c5-554a-48ed-a35f-6c6691c8ac9b   \n",
       "4  9dff71eb-b681-40c7-ac8d-68017ac36675   \n",
       "\n",
       "                                                 url  \\\n",
       "0  http://g1.globo.com/am/amazonas/noticia/2022/0...   \n",
       "1  http://g1.globo.com/pa/santarem-regiao/noticia...   \n",
       "2  http://g1.globo.com/mundo/noticia/2022/07/08/e...   \n",
       "3  http://g1.globo.com/politica/noticia/2021/09/0...   \n",
       "4  http://g1.globo.com/politica/noticia/2021/09/1...   \n",
       "\n",
       "                      issued                   modified  \\\n",
       "0  2022-06-18 20:37:45+00:00  2023-04-15 00:02:08+00:00   \n",
       "1  2019-06-20 17:19:52+00:00  2023-06-16 20:19:15+00:00   \n",
       "2  2022-07-08 08:55:52+00:00  2023-04-15 04:25:39+00:00   \n",
       "3  2021-09-09 19:06:46+00:00  2023-06-07 17:44:54+00:00   \n",
       "4  2021-09-15 19:16:13+00:00  2023-06-07 17:43:39+00:00   \n",
       "\n",
       "                                               title  \\\n",
       "0  Caso Bruno e Dom: 3º suspeito tem prisão tempo...   \n",
       "1  Linguajar dos santarenos é diferenciado e chei...   \n",
       "2  Ex-premiê Shinzo Abe morre após ser baleado no...   \n",
       "3  Relator no STF, Fachin vota contra marco tempo...   \n",
       "4  \\nApós 2 votos, pedido de vista suspende julga...   \n",
       "\n",
       "                                                body  \\\n",
       "0  Após audiência de custódia, a Justiça do Amazo...   \n",
       "1  Vista aérea de Santarém\\nÁdrio Denner/ AD Prod...   \n",
       "2  Novo vídeo mostra que assassino de Shinzo Abe ...   \n",
       "3  Relator no STF, Fachin vota contra marco tempo...   \n",
       "4  Após um pedido de vista (mais tempo para análi...   \n",
       "\n",
       "                                             caption  \n",
       "0  Jeferson da Silva Lima foi escoltado por agent...  \n",
       "1  As expressões santarenas não significam apenas...  \n",
       "2  Ex-primeiro-ministro foi atingido por tiros de...  \n",
       "3  Ministro defendeu que posse indígena é diferen...  \n",
       "4  Pelo marco temporal, índios só podem reivindic...  "
      ]
     },
     "execution_count": 10,
     "metadata": {},
     "output_type": "execute_result"
    }
   ],
   "source": [
    "itens_df.head()"
   ]
  },
  {
   "cell_type": "code",
   "execution_count": 12,
   "metadata": {},
   "outputs": [],
   "source": [
    "historico = [\n",
    "    'history',\n",
    "    'timestampHistory',\n",
    "    'numberOfClicksHistory',\n",
    "    'timeOnPageHistory',\n",
    "    'scrollPercentageHistory',\n",
    "    'pageVisitsCountHistory',\n",
    "    'timestampHistory_new'\n",
    "]\n",
    "\n",
    "logs_df = treino_df.copy()\n",
    "for coluna in historico:\n",
    "    logs_df[coluna] = logs_df[coluna].apply(lambda x: str(x).split(\", \"))\n",
    "logs_df = logs_df.explode(historico, ignore_index=True)"
   ]
  },
  {
   "cell_type": "code",
   "execution_count": 13,
   "metadata": {},
   "outputs": [
    {
     "data": {
      "text/html": [
       "<div>\n",
       "<style scoped>\n",
       "    .dataframe tbody tr th:only-of-type {\n",
       "        vertical-align: middle;\n",
       "    }\n",
       "\n",
       "    .dataframe tbody tr th {\n",
       "        vertical-align: top;\n",
       "    }\n",
       "\n",
       "    .dataframe thead th {\n",
       "        text-align: right;\n",
       "    }\n",
       "</style>\n",
       "<table border=\"1\" class=\"dataframe\">\n",
       "  <thead>\n",
       "    <tr style=\"text-align: right;\">\n",
       "      <th></th>\n",
       "      <th>userId</th>\n",
       "      <th>userType</th>\n",
       "      <th>historySize</th>\n",
       "      <th>history</th>\n",
       "      <th>timestampHistory</th>\n",
       "      <th>numberOfClicksHistory</th>\n",
       "      <th>timeOnPageHistory</th>\n",
       "      <th>scrollPercentageHistory</th>\n",
       "      <th>pageVisitsCountHistory</th>\n",
       "      <th>timestampHistory_new</th>\n",
       "    </tr>\n",
       "  </thead>\n",
       "  <tbody>\n",
       "    <tr>\n",
       "      <th>0</th>\n",
       "      <td>f98d1132f60d46883ce49583257104d15ce723b3bbda21...</td>\n",
       "      <td>Non-Logged</td>\n",
       "      <td>3</td>\n",
       "      <td>c8aab885-433d-4e46-8066-479f40ba7fb2</td>\n",
       "      <td>1657146417045</td>\n",
       "      <td>76</td>\n",
       "      <td>20380</td>\n",
       "      <td>50.3</td>\n",
       "      <td>2</td>\n",
       "      <td>1657146417045</td>\n",
       "    </tr>\n",
       "    <tr>\n",
       "      <th>1</th>\n",
       "      <td>f98d1132f60d46883ce49583257104d15ce723b3bbda21...</td>\n",
       "      <td>Non-Logged</td>\n",
       "      <td>3</td>\n",
       "      <td>68d2039c-c9aa-456c-ac33-9b2e8677fba7</td>\n",
       "      <td>1657146605778</td>\n",
       "      <td>38</td>\n",
       "      <td>21184</td>\n",
       "      <td>18.18</td>\n",
       "      <td>1</td>\n",
       "      <td>1657146605778</td>\n",
       "    </tr>\n",
       "    <tr>\n",
       "      <th>2</th>\n",
       "      <td>f98d1132f60d46883ce49583257104d15ce723b3bbda21...</td>\n",
       "      <td>Non-Logged</td>\n",
       "      <td>3</td>\n",
       "      <td>13e423ce-1d69-4c78-bc18-e8c8f7271964</td>\n",
       "      <td>1657146698738</td>\n",
       "      <td>41</td>\n",
       "      <td>35438</td>\n",
       "      <td>16.46</td>\n",
       "      <td>1</td>\n",
       "      <td>1657146698738</td>\n",
       "    </tr>\n",
       "    <tr>\n",
       "      <th>3</th>\n",
       "      <td>2c1080975e257ed630e26679edbe4d5c850c65f3e09f65...</td>\n",
       "      <td>Non-Logged</td>\n",
       "      <td>60</td>\n",
       "      <td>3325b5a1-979a-4cb3-82b6-63905c9edbe8</td>\n",
       "      <td>1656684240278</td>\n",
       "      <td>7</td>\n",
       "      <td>6049</td>\n",
       "      <td>25.35</td>\n",
       "      <td>1</td>\n",
       "      <td>1656684240278</td>\n",
       "    </tr>\n",
       "    <tr>\n",
       "      <th>4</th>\n",
       "      <td>2c1080975e257ed630e26679edbe4d5c850c65f3e09f65...</td>\n",
       "      <td>Non-Logged</td>\n",
       "      <td>60</td>\n",
       "      <td>fe856057-f97d-419f-ab1c-97c5c3e0719c</td>\n",
       "      <td>1656761266729</td>\n",
       "      <td>80</td>\n",
       "      <td>210489</td>\n",
       "      <td>45.66</td>\n",
       "      <td>1</td>\n",
       "      <td>1656761266729</td>\n",
       "    </tr>\n",
       "  </tbody>\n",
       "</table>\n",
       "</div>"
      ],
      "text/plain": [
       "                                              userId    userType  historySize  \\\n",
       "0  f98d1132f60d46883ce49583257104d15ce723b3bbda21...  Non-Logged            3   \n",
       "1  f98d1132f60d46883ce49583257104d15ce723b3bbda21...  Non-Logged            3   \n",
       "2  f98d1132f60d46883ce49583257104d15ce723b3bbda21...  Non-Logged            3   \n",
       "3  2c1080975e257ed630e26679edbe4d5c850c65f3e09f65...  Non-Logged           60   \n",
       "4  2c1080975e257ed630e26679edbe4d5c850c65f3e09f65...  Non-Logged           60   \n",
       "\n",
       "                                history timestampHistory  \\\n",
       "0  c8aab885-433d-4e46-8066-479f40ba7fb2    1657146417045   \n",
       "1  68d2039c-c9aa-456c-ac33-9b2e8677fba7    1657146605778   \n",
       "2  13e423ce-1d69-4c78-bc18-e8c8f7271964    1657146698738   \n",
       "3  3325b5a1-979a-4cb3-82b6-63905c9edbe8    1656684240278   \n",
       "4  fe856057-f97d-419f-ab1c-97c5c3e0719c    1656761266729   \n",
       "\n",
       "  numberOfClicksHistory timeOnPageHistory scrollPercentageHistory  \\\n",
       "0                    76             20380                    50.3   \n",
       "1                    38             21184                   18.18   \n",
       "2                    41             35438                   16.46   \n",
       "3                     7              6049                   25.35   \n",
       "4                    80            210489                   45.66   \n",
       "\n",
       "  pageVisitsCountHistory timestampHistory_new  \n",
       "0                      2        1657146417045  \n",
       "1                      1        1657146605778  \n",
       "2                      1        1657146698738  \n",
       "3                      1        1656684240278  \n",
       "4                      1        1656761266729  "
      ]
     },
     "execution_count": 13,
     "metadata": {},
     "output_type": "execute_result"
    }
   ],
   "source": [
    "logs_df.head()"
   ]
  },
  {
   "cell_type": "code",
   "execution_count": 18,
   "metadata": {},
   "outputs": [
    {
     "data": {
      "text/plain": [
       "userId                     0\n",
       "userType                   0\n",
       "historySize                0\n",
       "history                    0\n",
       "timestampHistory           0\n",
       "numberOfClicksHistory      0\n",
       "timeOnPageHistory          0\n",
       "scrollPercentageHistory    0\n",
       "pageVisitsCountHistory     0\n",
       "timestampHistory_new       0\n",
       "dtype: int64"
      ]
     },
     "execution_count": 18,
     "metadata": {},
     "output_type": "execute_result"
    }
   ],
   "source": [
    "logs_df.isnull().sum()"
   ]
  },
  {
   "cell_type": "code",
   "execution_count": 19,
   "metadata": {},
   "outputs": [
    {
     "data": {
      "text/plain": [
       "(8123951, 10)"
      ]
     },
     "execution_count": 19,
     "metadata": {},
     "output_type": "execute_result"
    }
   ],
   "source": [
    "logs_df.shape"
   ]
  },
  {
   "cell_type": "code",
   "execution_count": 20,
   "metadata": {},
   "outputs": [],
   "source": [
    "logs_df = logs_df.drop('historySize', axis=1)"
   ]
  },
  {
   "cell_type": "code",
   "execution_count": 24,
   "metadata": {},
   "outputs": [],
   "source": [
    "logs_df['history'] = logs_df['history'].astype(str)\n",
    "itens_df['page'] = itens_df['page'].astype(str)"
   ]
  },
  {
   "cell_type": "code",
   "execution_count": 27,
   "metadata": {},
   "outputs": [],
   "source": [
    "merged_df = logs_df.merge(itens_df, left_on='history', right_on='page', how='inner')"
   ]
  },
  {
   "cell_type": "code",
   "execution_count": 28,
   "metadata": {},
   "outputs": [
    {
     "data": {
      "text/plain": [
       "(8123951, 16)"
      ]
     },
     "execution_count": 28,
     "metadata": {},
     "output_type": "execute_result"
    }
   ],
   "source": [
    "merged_df.shape"
   ]
  },
  {
   "cell_type": "code",
   "execution_count": null,
   "metadata": {},
   "outputs": [],
   "source": [
    "merged_df = merged_df.sort_values(by=[\"userId\", \"timestampHistory\"], ascending=[True, False])"
   ]
  },
  {
   "cell_type": "code",
   "execution_count": null,
   "metadata": {},
   "outputs": [],
   "source": [
    "rel_col = []\n",
    "prev_user = None\n",
    "inverse_aux = merged_df[::-1].copy()\n",
    "for i in range(len(merged_df)):\n",
    "    user = inverse_aux.userId.iloc[i]\n",
    "    if user != prev_user:\n",
    "        relevance = 1\n",
    "    else:\n",
    "        relevance = relevance + 1\n",
    "    rel_col.append(relevance)\n",
    "    prev_user = user\n",
    "inverse_aux['relevance'] = rel_col\n",
    "final = inverse_aux[::-1]"
   ]
  }
 ],
 "metadata": {
  "kernelspec": {
   "display_name": ".venv",
   "language": "python",
   "name": "python3"
  },
  "language_info": {
   "codemirror_mode": {
    "name": "ipython",
    "version": 3
   },
   "file_extension": ".py",
   "mimetype": "text/x-python",
   "name": "python",
   "nbconvert_exporter": "python",
   "pygments_lexer": "ipython3",
   "version": "3.12.5"
  }
 },
 "nbformat": 4,
 "nbformat_minor": 2
}
